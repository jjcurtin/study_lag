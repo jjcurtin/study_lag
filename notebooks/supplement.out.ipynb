{
 "cells": [
  {
   "cell_type": "markdown",
   "metadata": {},
   "source": [
    "# Supplemental Material\n",
    "\n",
    "Lagged Predictions of Next Week Alcohol Use for Precision Mental Health Support\n",
    "\n",
    "Kendra Wyant, Gaylen E. Fronk, Jiachen Yu, and John J. Curtin  \n",
    "June 11, 2025\n",
    "\n",
    "This file contains the supplemental materials for *Lagged Predictions of Next Week Alcohol Use for Precision Mental Health Support*. It includes a transparency report and all supplemental figures and tables. Additional materials are made available on our study’s OSF page (<https://osf.io/xta67/>).\n",
    "\n",
    "------------------------------------------------------------------------"
   ],
   "id": "fe9e506e-b79f-4bcf-8025-56e8a4d47ade"
  },
  {
   "cell_type": "code",
   "execution_count": null,
   "metadata": {},
   "outputs": [],
   "source": [
    "\n",
    "suppressPackageStartupMessages(library(tidyverse))\n",
    "suppressPackageStartupMessages(source(\"https://github.com/jjcurtin/lab_support/blob/main/format_path.R?raw=true\"))\n",
    "suppressPackageStartupMessages(library(tidyposterior))\n",
    "suppressPackageStartupMessages(library(kableExtra))\n",
    "library(patchwork)\n",
    "\n",
    "\n",
    "theme_set(theme_classic())\n",
    "\n",
    "options(knitr.kable.NA = '')\n",
    "\n",
    "path_models_lag <- format_path(str_c(\"risk/models/lag\"))\n",
    "path_processed <- format_path(str_c(\"risk/data_processed/lag\"))\n"
   ],
   "id": "e9b9c5b7-2202-4086-aa73-837a66111575"
  },
  {
   "cell_type": "code",
   "execution_count": null,
   "metadata": {},
   "outputs": [],
   "source": [
    "\n",
    "pp_tidy <- read_csv(here::here(path_models_lag, \"posteriors.csv\"), \n",
    "                                 show_col_types = FALSE) \n",
    "\n",
    "ci <- read_csv(here::here(path_models_lag, \"pp_perf_tibble.csv\"), \n",
    "                                 show_col_types = FALSE) |> \n",
    "  mutate(model = factor(model, levels = c(\"0 lag\", \"24 lag\", \"72 lag\", \"168 lag\", \"336 lag\"),\n",
    "                        labels = c(\"No lag\", \"1 day\", \"3 days\", \"1 week\", \"2 weeks\")))\n",
    "\n",
    "pp_dem <- read_csv(here::here(path_models_lag, \"pp_dem_all.csv\"), \n",
    "                                 show_col_types = FALSE)\n",
    "\n",
    "pp_dem_contrast <- read_csv(here::here(path_models_lag, \"pp_dem_contrast_all.csv\"), \n",
    "                                 show_col_types = FALSE) |> \n",
    "  mutate(lag = factor(lag, levels = c(\"0\", \"24\", \"72\", \"168\", \"336\"),\n",
    "                        labels = c(\"No lag\", \"1 day\", \"3 days\", \"1 week\", \"2 weeks\")))\n",
    "\n",
    "labels <- read_csv(here::here(path_processed, \"labels_1day_0lag.csv\"),\n",
    "                   show_col_types = FALSE)\n",
    "\n",
    "dem_tbl <- read_csv(here::here(path_processed, \"dem_tibble.csv\"),\n",
    "                   show_col_types = FALSE)\n",
    "\n",
    "labels_dem <- labels |> \n",
    "  left_join(dem_tbl, by = \"subid\")\n"
   ],
   "id": "6afe35d3-73c1-440e-b69a-9ae131f7c1c8"
  },
  {
   "cell_type": "markdown",
   "metadata": {},
   "source": [
    "## Transparency Report 1.0 (full, 36 items; Aczel et al., 2019)\n",
    "\n",
    "**Manuscript Title:** Lagged Predictions of Next Week Alcohol Use for Precision Mental Health Support  \n",
    "**Authors:** Kendra Wyant, Gaylen E. Fronk, Jiachen Yu, and John J. Curtin  \n",
    "**Corresponding author’s email address:** jjcurtin@wisc.edu  \n",
    "**Link to Project Repository:** <https://osf.io/xta67/>\n",
    "\n",
    "### Preregistration Section\n",
    "\n",
    "-   Prior to analyzing the complete data set, a time-stamped preregistration was posted in an independent, third-party registry for the data analysis plan: Yes\n",
    "\n",
    "Comments about your Preregistration: We pre-registered our data analytic strategy on OSF.\n",
    "\n",
    "### Methods Section\n",
    "\n",
    "The manuscript fully describes…\n",
    "\n",
    "-   the rationale for the sample size used (e.g., an a priori power analysis): Yes  \n",
    "-   how participants were recruited: Yes  \n",
    "-   how participants were selected (e.g., eligibility criteria): Yes  \n",
    "-   what compensation was offered for participation: Yes  \n",
    "-   how participant dropout was handled (e.g., replaced, omitted, etc): Yes  \n",
    "-   how participants were assigned to conditions: N/A. There are no conditions.  \n",
    "-   how stimulus materials were randomized: N/A.  \n",
    "-   whether (and, if so, how) participants, experimenters, and data-analysts were kept naive to potentially biasing information: N/A. This is an observations study that does not include analysis of group or manipulations. There were no study conditions to blind.  \n",
    "-   the study design, procedures, and materials to allow independent replication: Yes  \n",
    "-   the measures of interest (e.g., friendliness): Yes  \n",
    "-   all operationalizations for the measures of interest (e.g., a questionnaire measuring friendliness): Yes\n",
    "\n",
    "### Results and Discussion Section\n",
    "\n",
    "The manuscript…\n",
    "\n",
    "-   distinguishes explicitly between “confirmatory” (i.e., prespecified) and “exploratory” (i.e., not prespecified) analyses: All analyses were pre-registered.\n",
    "-   describes how violations of statistical assumptions were handled: No  \n",
    "-   justifies all statistical choices (e.g., including or excluding covariates; applying or not applying transformations; use of multi-level models vs. ANOVA): Yes  \n",
    "-   reports the sample size for each cell of the design: Yes  \n",
    "-   reports how incomplete or missing data were handled: Yes  \n",
    "-   presents protocols for data preprocessing (e.g., cleaning, discarding of cases and items, normalizing, smoothing, artifact correction): Yes\n",
    "\n",
    "### Data, Code, and Materials Availability Section\n",
    "\n",
    "The following have been made publicly available…\n",
    "\n",
    "-   the (processed) data, on which the analyses of the manuscript were based: Yes  \n",
    "-   all code and software (that is not copyright protected): Yes  \n",
    "-   all instructions, stimuli, and test materials (that are not copyright protected): Yes  \n",
    "-   Are the data properly archived (i.e., would a graduate student with relevant background knowledge be able to identify each variable and reproduce the analysis): Yes  \n",
    "-   The manuscript includes a statement concerning the availability and location of all research items, including data, materials, and code relevant to the study: Yes"
   ],
   "id": "94386797-9abf-4013-82d6-d747c47cac98"
  },
  {
   "cell_type": "markdown",
   "metadata": {},
   "source": [
    "## Supplemental Figures\n",
    "\n",
    "### Figure S1: Raw Predicted Probabilities"
   ],
   "id": "d0c166fa-3fba-4d3e-a0f1-3d946dd013fc"
  },
  {
   "cell_type": "code",
   "execution_count": null,
   "metadata": {},
   "outputs": [],
   "source": [
    "\n",
    "preds_0 <- read_rds(here::here(path_models_lag, \n",
    "                               \"final_preds_kfold_1_x_5_1day_0_v3_strat_lh_final.rds\")) \n",
    "preds_24 <- read_rds(here::here(path_models_lag, \n",
    "                               \"final_preds_kfold_1_x_5_1day_24_v3_strat_lh_final.rds\")) \n",
    "preds_72 <- read_rds(here::here(path_models_lag, \n",
    "                               \"final_preds_kfold_1_x_5_1day_72_v3_strat_lh_final.rds\")) \n",
    "preds_168 <- read_rds(here::here(path_models_lag, \n",
    "                               \"final_preds_kfold_1_x_5_1day_168_v3_strat_lh_final.rds\")) \n",
    "preds_336 <- read_rds(here::here(path_models_lag, \n",
    "                               \"final_preds_kfold_1_x_5_1day_336_v3_strat_lh_final.rds\")) \n"
   ],
   "id": "71d5953d-f997-40e9-87f8-8cc37706c5c4"
  },
  {
   "cell_type": "code",
   "execution_count": null,
   "metadata": {},
   "outputs": [],
   "source": [
    "\n",
    "preds_all <- preds_0 |> \n",
    "  mutate(model = \"No lag\") |> \n",
    "  bind_rows(preds_24 |> \n",
    "              mutate(model = \"1 day\")) |> \n",
    "  bind_rows(preds_72 |> \n",
    "              mutate(model = \"3 days\")) |> \n",
    "  bind_rows(preds_168 |> \n",
    "              mutate(model = \"1 week\")) |> \n",
    "  bind_rows(preds_336 |> \n",
    "              mutate(model = \"2 weeks\")) |> \n",
    "  mutate(model = factor(model, levels = c(\"No lag\", \"1 day\", \"3 days\", \"1 week\", \"2 weeks\")))\n"
   ],
   "id": "1acad65e-6d5d-4084-8c46-0e4a644f57da"
  },
  {
   "cell_type": "markdown",
   "metadata": {},
   "source": [
    "Our models produced variation in predicted probabilities, with probabilities spanning nearly the entire 0 - 1 range. The 2-week lagged model had fewer high raw probabilities (all probabilities were \\< .80). Histograms of the raw predicted probabilities for all 5 models are presented below."
   ],
   "id": "b39fdce8-394d-4e00-af5a-6f83cc82805b"
  },
  {
   "cell_type": "code",
   "execution_count": null,
   "metadata": {},
   "outputs": [
    {
     "output_type": "display_data",
     "metadata": {},
     "data": {}
    }
   ],
   "source": [
    "\n",
    "preds_all |> \n",
    "  ggplot(aes(x = prob_raw)) +\n",
    "  geom_histogram(color = \"black\", fill = \"light grey\", binwidth = .10,\n",
    "                 boundary = 0) +\n",
    "  facet_wrap(~model) +\n",
    "  labs(x = \"Raw probabilities from final model\") +\n",
    "  scale_x_continuous(breaks = seq(0, 1, by = 0.2))\n"
   ],
   "id": "7ac25849-d017-4e22-bc50-f1c6c75e16e8"
  },
  {
   "cell_type": "markdown",
   "metadata": {},
   "source": [
    "### Figure S2: Calibration Plots for all Models"
   ],
   "id": "6c378a62-7407-4f86-9d95-51fc3d4c0006"
  },
  {
   "cell_type": "code",
   "execution_count": null,
   "metadata": {},
   "outputs": [],
   "source": [
    "\n",
    "bin_width = 0.10\n",
    "\n",
    "preds_all_raw <- preds_0 |> \n",
    "  mutate(bins = cut(prob_beta, breaks = seq(0, 1, bin_width)), \n",
    "         lapse = if_else(label == \"Lapse\", 1, 0)) |> \n",
    "  mutate(model = \"No lag\") |> \n",
    "  bind_rows(preds_24 |> \n",
    "              mutate(bins = cut(prob_raw, breaks = seq(0, 1, bin_width)), \n",
    "                     lapse = if_else(label == \"Lapse\", 1, 0)) |> \n",
    "              mutate(model = \"1 day\")) |> \n",
    "  bind_rows(preds_72 |> \n",
    "              mutate(bins = cut(prob_raw, breaks = seq(0, 1, bin_width)), \n",
    "                     lapse = if_else(label == \"Lapse\", 1, 0)) |> \n",
    "              mutate(model = \"3 days\")) |> \n",
    "  bind_rows(preds_168 |> \n",
    "              mutate(bins = cut(prob_raw, breaks = seq(0, 1, bin_width)), \n",
    "                     lapse = if_else(label == \"Lapse\", 1, 0)) |> \n",
    "              mutate(model = \"1 week\")) |> \n",
    "  bind_rows(preds_336 |> \n",
    "              mutate(bins = cut(prob_raw, breaks = seq(0, 1, bin_width)), \n",
    "                     lapse = if_else(label == \"Lapse\", 1, 0)) |> \n",
    "              mutate(model = \"2 weeks\")) |> \n",
    "  mutate(model = factor(model, levels = c(\"No lag\", \"1 day\", \"3 days\", \"1 week\", \"2 weeks\")))\n",
    "\n",
    "preds_all_beta <- preds_0 |> \n",
    "  mutate(bins = cut(prob_beta, breaks = seq(0, 1, bin_width)), \n",
    "         lapse = if_else(label == \"Lapse\", 1, 0)) |> \n",
    "  mutate(model = \"No lag\") |> \n",
    "  bind_rows(preds_24 |> \n",
    "              mutate(bins = cut(prob_beta, breaks = seq(0, 1, bin_width)), \n",
    "                     lapse = if_else(label == \"Lapse\", 1, 0)) |> \n",
    "              mutate(model = \"1 day\")) |> \n",
    "  bind_rows(preds_72 |> \n",
    "              mutate(bins = cut(prob_beta, breaks = seq(0, 1, bin_width)), \n",
    "                     lapse = if_else(label == \"Lapse\", 1, 0)) |> \n",
    "              mutate(model = \"3 days\")) |> \n",
    "  bind_rows(preds_168 |> \n",
    "              mutate(bins = cut(prob_beta, breaks = seq(0, 1, bin_width)), \n",
    "                     lapse = if_else(label == \"Lapse\", 1, 0)) |> \n",
    "              mutate(model = \"1 week\")) |> \n",
    "  bind_rows(preds_336 |> \n",
    "              mutate(bins = cut(prob_beta, breaks = seq(0, 1, bin_width)), \n",
    "                     lapse = if_else(label == \"Lapse\", 1, 0)) |> \n",
    "              mutate(model = \"2 weeks\")) |> \n",
    "  mutate(model = factor(model, levels = c(\"No lag\", \"1 day\", \"3 days\", \"1 week\", \"2 weeks\")))\n"
   ],
   "id": "1e09fe62-b2c1-4bcb-899f-1e46b87bedc2"
  },
  {
   "cell_type": "markdown",
   "metadata": {},
   "source": [
    "The raw probabilities produced by our final models were not well calibrated. Brier scores for the no lag model (.071) and the 2-week lag model (.077) were roughly equivalent to the base rate of lapses (.076). Below we present the calibration plots of our raw predicted lapse probabilities for each model."
   ],
   "id": "60f8295a-dbd6-4206-82a3-4577699f8361"
  },
  {
   "cell_type": "code",
   "execution_count": null,
   "metadata": {},
   "outputs": [
    {
     "output_type": "display_data",
     "metadata": {},
     "data": {}
    }
   ],
   "source": [
    "\n",
    "preds_all_raw |> \n",
    "  group_by(bins, model)  |> \n",
    "  summarize(mean_lapse = mean(lapse),\n",
    "            .groups = \"drop\") |> \n",
    "  mutate(bins = as.numeric(bins),\n",
    "         midpoints = bin_width/2 + bin_width * (bins - 1))  |> \n",
    "  ggplot(data = _, aes(x = midpoints, y = mean_lapse)) +\n",
    "  geom_abline(slope = 1, intercept = 0, linetype = \"dotted\") +\n",
    "  geom_line() +\n",
    "  geom_point() +\n",
    "  facet_wrap(~ model) +\n",
    "  labs(x = \"Predicted Lapse Probability (bin mid-point)\",\n",
    "       y = \"Observed Lapse Probability\",\n",
    "       title = \"Raw Probabilities\") +\n",
    "  scale_x_continuous(breaks = seq(0, 1, bin_width),\n",
    "                     limits = c(0, 1)) +\n",
    "  scale_y_continuous(breaks = seq(0, 1, bin_width),\n",
    "                     limits = c(0, 1)) \n"
   ],
   "id": "809e83ab-9d65-4a17-a889-0631853cbead"
  },
  {
   "cell_type": "markdown",
   "metadata": {},
   "source": [
    "Beta-calibration was selected as the best calibration method (i.e., it had the lowest average brier score across the no lag and 2-week lag models). Brier scores for the no lag model (.043) and the 2-week model (.061) indicated improved calibration with the beta transformation. Notably, there was a 40% reduction in error for no lag beta-calibrated probabilities compared to the no lag raw probabilities (there was a corresponding 21% reduction in error for the 2-week lag model). Below we present calibration plots for the beta-calibrated probabilities for all 5 models."
   ],
   "id": "78266d4f-f404-4ed7-90f3-94b5a7a01724"
  },
  {
   "cell_type": "code",
   "execution_count": null,
   "metadata": {},
   "outputs": [
    {
     "output_type": "display_data",
     "metadata": {},
     "data": {}
    }
   ],
   "source": [
    "\n",
    "preds_all_beta |> \n",
    "  group_by(bins, model)  |> \n",
    "  summarize(mean_lapse = mean(lapse),\n",
    "            .groups = \"drop\") |> \n",
    "  mutate(bins = as.numeric(bins),\n",
    "         midpoints = bin_width/2 + bin_width * (bins - 1))  |> \n",
    "  ggplot(data = _, aes(x = midpoints, y = mean_lapse)) +\n",
    "  geom_abline(slope = 1, intercept = 0, linetype = \"dotted\") +\n",
    "  geom_line() +\n",
    "  geom_point() +\n",
    "  facet_wrap(~ model) +\n",
    "  labs(x = \"Predicted Lapse Probability (bin mid-point)\",\n",
    "       y = \"Observed Lapse Probability\",\n",
    "       title = \"Beta Calibration\") +\n",
    "  scale_x_continuous(breaks = seq(0, 1, bin_width),\n",
    "                     limits = c(0, 1)) +\n",
    "  scale_y_continuous(breaks = seq(0, 1, bin_width),\n",
    "                     limits = c(0, 1)) \n"
   ],
   "id": "9c489ae7-40b6-40f0-b058-f169a2cdd51e"
  }
 ],
 "nbformat": 4,
 "nbformat_minor": 5,
 "metadata": {}
}
