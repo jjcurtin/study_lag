{
 "cells": [
  {
   "cell_type": "markdown",
   "metadata": {},
   "source": [
    "# Model calibration\n",
    "\n",
    "Kendra Wyant  \n",
    "June 20, 2025\n",
    "\n",
    "### Set Up Environment"
   ],
   "id": "4ee26fd9-4392-45b3-a239-82315dfa1cf2"
  },
  {
   "cell_type": "code",
   "execution_count": null,
   "metadata": {},
   "outputs": [],
   "source": [
    "suppressPackageStartupMessages(library(tidyverse))\n",
    "suppressPackageStartupMessages(source(\"https://github.com/jjcurtin/lab_support/blob/main/format_path.R?raw=true\"))\n",
    "suppressPackageStartupMessages(library(tidymodels))\n",
    "\n",
    "path_models <- format_path(\"risk/models/lag\")\n",
    "\n",
    "options(knitr.kable.NA = '')"
   ],
   "id": "e75a5449-6bc7-4baf-a0a2-609fcbbad92a"
  },
  {
   "cell_type": "markdown",
   "metadata": {},
   "source": [
    "### Read in best model predicitons"
   ],
   "id": "e682864f-742a-422b-9bd3-c8a10ffa4782"
  },
  {
   "cell_type": "code",
   "execution_count": null,
   "metadata": {},
   "outputs": [],
   "source": [
    "preds_0 <- read_rds(here::here(path_models, \"final_preds_kfold_1_x_5_1day_0_v3_strat_lh_final.rds\"))\n",
    "preds_24 <- read_rds(here::here(path_models, \"final_preds_kfold_1_x_5_1day_24_v3_strat_lh_final.rds\"))\n",
    "preds_72 <- read_rds(here::here(path_models, \"final_preds_kfold_1_x_5_1day_72_v3_strat_lh_final.rds\"))\n",
    "preds_168 <- read_rds(here::here(path_models, \"final_preds_kfold_1_x_5_1day_168_v3_strat_lh_final.rds\"))\n",
    "preds_336 <- read_rds(here::here(path_models, \"final_preds_kfold_1_x_5_1day_336_v3_strat_lh_final.rds\"))"
   ],
   "id": "58c87630-badb-44f4-8dbf-3caf35f574b3"
  },
  {
   "cell_type": "markdown",
   "metadata": {},
   "source": [
    "### Brier Scores"
   ],
   "id": "d1cce587-f12e-4cb4-9a22-24c585e6b34b"
  },
  {
   "cell_type": "code",
   "execution_count": null,
   "metadata": {},
   "outputs": [
    {
     "output_type": "display_data",
     "metadata": {},
     "data": {
      "text/html": [
       "\n"
      ],
      "text/markdown": [
       "  Model       Raw (uncalibrated)   Logistic calibration   Beta calibration\n",
       "  --------- -------------------- ---------------------- ------------------\n",
       "  No lag                    0.07                   0.04               0.04\n",
       "  1 day                     0.07                   0.05               0.05\n",
       "  3 days                    0.13                   0.06               0.05\n",
       "  1 week                    0.07                   0.06               0.06\n",
       "  2 weeks                   0.08                   0.06               0.06\n"
      ]
     }
    }
   ],
   "source": [
    "brier <- tibble(model = \"No lag\",\n",
    "                raw = brier_class(preds_0, truth = label, prob_raw)$.estimate,\n",
    "                logi = brier_class(preds_0, truth = label, prob_logi)$.estimate,\n",
    "                beta = brier_class(preds_0, truth = label, prob_beta)$.estimate) |> \n",
    "  bind_rows(tibble(model = \"1 day\",\n",
    "                   raw = brier_class(preds_24, truth = label, prob_raw)$.estimate,\n",
    "                   logi = brier_class(preds_24, truth = label, prob_logi)$.estimate,\n",
    "                   beta = brier_class(preds_24, truth = label, prob_beta)$.estimate)) |> \n",
    "  bind_rows(tibble(model = \"3 days\",\n",
    "                   raw = brier_class(preds_72, truth = label, prob_raw)$.estimate,\n",
    "                   logi = brier_class(preds_72, truth = label, prob_logi)$.estimate,\n",
    "                   beta = brier_class(preds_72, truth = label, prob_beta)$.estimate)) |> \n",
    "  bind_rows(tibble(model = \"1 week\",\n",
    "                   raw = brier_class(preds_168, truth = label, prob_raw)$.estimate,\n",
    "                   logi = brier_class(preds_168, truth = label, prob_logi)$.estimate,\n",
    "                   beta = brier_class(preds_168, truth = label, prob_beta)$.estimate)) |> \n",
    "  bind_rows(tibble(model = \"2 weeks\",\n",
    "                   raw = brier_class(preds_336, truth = label, prob_raw)$.estimate,\n",
    "                   logi = brier_class(preds_336, truth = label, prob_logi)$.estimate,\n",
    "                   beta = brier_class(preds_336, truth = label, prob_beta)$.estimate)) |> \n",
    "  write_csv(here::here(path_models, \"brier_scores.csv\"))\n",
    "\n",
    "\n",
    "brier |> \n",
    "  rename(Model = model, \n",
    "         `Raw (uncalibrated)` = raw,\n",
    "         `Logistic calibration` = logi,\n",
    "         `Beta calibration` = beta) |> \n",
    "  knitr::kable(digits = 2) |> \n",
    "  kableExtra::kable_classic()"
   ],
   "id": "269fcabb-7f82-460b-b3fd-51aa67ce6b49"
  }
 ],
 "nbformat": 4,
 "nbformat_minor": 5,
 "metadata": {}
}
