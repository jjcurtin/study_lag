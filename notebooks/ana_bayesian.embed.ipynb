{
 "cells": [
  {
   "cell_type": "markdown",
   "metadata": {},
   "source": [
    "# Model evaluation\n",
    "\n",
    "Kendra Wyant  \n",
    "August 20, 2025\n",
    "\n",
    "### Set Up Environment"
   ],
   "id": "c8d1f6a9-fd6d-496a-8181-003b490f9bc0"
  },
  {
   "cell_type": "code",
   "execution_count": null,
   "metadata": {},
   "outputs": [],
   "source": [
    "suppressPackageStartupMessages(library(tidyverse))\n",
    "suppressPackageStartupMessages(source(\"https://github.com/jjcurtin/lab_support/blob/main/format_path.R?raw=true\"))\n",
    "suppressPackageStartupMessages(library(tidyposterior))\n",
    "\n",
    "path_models_lag <- format_path(str_c(\"risk/models/lag\"))\n",
    "path_shared <- format_path(\"risk/data_processed/shared\")\n",
    "path_processed <- format_path(\"risk/data_processed/lag\")\n",
    "\n",
    "options(knitr.kable.NA = '')"
   ],
   "id": "503ef3ab-fb1b-488d-96c0-542c33f88efd"
  },
  {
   "cell_type": "code",
   "execution_count": null,
   "metadata": {},
   "outputs": [
    {
     "output_type": "stream",
     "name": "stdout",
     "text": [
      "Rows: 30\n",
      "Columns: 7\n",
      "$ lag0       <dbl> 0.8989030, 0.9245294, 0.9297046, 0.9056895, 0.8849340, 0.91…\n",
      "$ lag24      <dbl> 0.8689003, 0.8988473, 0.9261899, 0.8778537, 0.8780250, 0.90…\n",
      "$ lag72      <dbl> 0.8358703, 0.8974821, 0.9275120, 0.8653247, 0.8754346, 0.89…\n",
      "$ lag168     <dbl> 0.8224227, 0.8695022, 0.9108843, 0.8673193, 0.8613850, 0.88…\n",
      "$ lag336     <dbl> 0.7534889, 0.8629033, 0.9062894, 0.8448594, 0.8349199, 0.85…\n",
      "$ fold_num   <int> 1, 2, 3, 4, 5, 6, 7, 8, 9, 10, 1, 2, 3, 4, 5, 6, 7, 8, 9, 1…\n",
      "$ repeat_num <dbl> 1, 1, 1, 1, 1, 1, 1, 1, 1, 1, 2, 2, 2, 2, 2, 2, 2, 2, 2, 2,…"
     ]
    }
   ],
   "source": [
    "test_metrics_0 <- read_csv(here::here(path_models_lag, \n",
    "                                      \"test_auroc_6_x_5_1day_0_v3_nested_strat_lh.csv\"), \n",
    "                              col_types = cols()) |> \n",
    "  select(outer_split_num, \"lag0\" = roc_auc)\n",
    "\n",
    "test_metrics_24 <- read_csv(here::here(path_models_lag, \n",
    "                                       \"test_auroc_6_x_5_1day_24_v3_nested_strat_lh.csv\"),\n",
    "                             col_types = cols()) |> \n",
    "  select(outer_split_num, \"lag24\" = roc_auc)\n",
    "\n",
    "test_metrics_72 <- read_csv(here::here(path_models_lag, \n",
    "                                       \"test_auroc_6_x_5_1day_72_v3_nested_strat_lh.csv\"),\n",
    "                              col_types = cols()) |> \n",
    "  select(outer_split_num, \"lag72\" = roc_auc)\n",
    "\n",
    "test_metrics_168 <- read_csv(here::here(path_models_lag, \n",
    "                                        \"test_auroc_6_x_5_1day_168_v3_nested_strat_lh.csv\"), \n",
    "                              col_types = cols()) |> \n",
    "  select(outer_split_num, \"lag168\" = roc_auc)\n",
    "\n",
    "test_metrics_336 <- read_csv(here::here(path_models_lag, \n",
    "                                       \"test_auroc_6_x_5_1day_336_v3_nested_strat_lh.csv\"),\n",
    "                             col_types = cols()) |> \n",
    "  select(outer_split_num, \"lag336\" = roc_auc)\n",
    "\n",
    "test_metrics_all <- test_metrics_0 |> \n",
    "  left_join(test_metrics_24, by = c(\"outer_split_num\")) |> \n",
    "  left_join(test_metrics_72, by = c(\"outer_split_num\")) |>\n",
    "  left_join(test_metrics_168, by = c(\"outer_split_num\")) |>\n",
    "  left_join(test_metrics_336, by = c(\"outer_split_num\")) |> \n",
    "  mutate(fold_num = rep(1:10, 3),\n",
    "         repeat_num = c(rep(1, 10), rep(2, 10), rep(3, 10))) |> \n",
    "  select(-outer_split_num) |> \n",
    "  glimpse()"
   ],
   "id": "66d9e5a1-b99c-412f-9ede-2fed40affd73"
  },
  {
   "cell_type": "markdown",
   "metadata": {},
   "source": [
    "#### Model evaluation"
   ],
   "id": "59dbb4b0-d327-4888-ad0f-5ec6f6e35713"
  },
  {
   "cell_type": "code",
   "execution_count": null,
   "metadata": {},
   "outputs": [
    {
     "output_type": "stream",
     "name": "stdout",
     "text": [
      "\n",
      "SAMPLING FOR MODEL 'continuous' NOW (CHAIN 1).\n",
      "Chain 1: \n",
      "Chain 1: Gradient evaluation took 7.1e-05 seconds\n",
      "Chain 1: 1000 transitions using 10 leapfrog steps per transition would take 0.71 seconds.\n",
      "Chain 1: Adjust your expectations accordingly!\n",
      "Chain 1: \n",
      "Chain 1: \n",
      "Chain 1: Iteration:    1 / 6000 [  0%]  (Warmup)\n",
      "Chain 1: Iteration:  600 / 6000 [ 10%]  (Warmup)\n",
      "Chain 1: Iteration: 1200 / 6000 [ 20%]  (Warmup)\n",
      "Chain 1: Iteration: 1800 / 6000 [ 30%]  (Warmup)\n",
      "Chain 1: Iteration: 2400 / 6000 [ 40%]  (Warmup)\n",
      "Chain 1: Iteration: 3000 / 6000 [ 50%]  (Warmup)\n",
      "Chain 1: Iteration: 3001 / 6000 [ 50%]  (Sampling)\n",
      "Chain 1: Iteration: 3600 / 6000 [ 60%]  (Sampling)\n",
      "Chain 1: Iteration: 4200 / 6000 [ 70%]  (Sampling)\n",
      "Chain 1: Iteration: 4800 / 6000 [ 80%]  (Sampling)\n",
      "Chain 1: Iteration: 5400 / 6000 [ 90%]  (Sampling)\n",
      "Chain 1: Iteration: 6000 / 6000 [100%]  (Sampling)\n",
      "Chain 1: \n",
      "Chain 1:  Elapsed Time: 11.913 seconds (Warm-up)\n",
      "Chain 1:                9.222 seconds (Sampling)\n",
      "Chain 1:                21.135 seconds (Total)\n",
      "Chain 1: \n",
      "\n",
      "SAMPLING FOR MODEL 'continuous' NOW (CHAIN 2).\n",
      "Chain 2: \n",
      "Chain 2: Gradient evaluation took 2.9e-05 seconds\n",
      "Chain 2: 1000 transitions using 10 leapfrog steps per transition would take 0.29 seconds.\n",
      "Chain 2: Adjust your expectations accordingly!\n",
      "Chain 2: \n",
      "Chain 2: \n",
      "Chain 2: Iteration:    1 / 6000 [  0%]  (Warmup)\n",
      "Chain 2: Iteration:  600 / 6000 [ 10%]  (Warmup)\n",
      "Chain 2: Iteration: 1200 / 6000 [ 20%]  (Warmup)\n",
      "Chain 2: Iteration: 1800 / 6000 [ 30%]  (Warmup)\n",
      "Chain 2: Iteration: 2400 / 6000 [ 40%]  (Warmup)\n",
      "Chain 2: Iteration: 3000 / 6000 [ 50%]  (Warmup)\n",
      "Chain 2: Iteration: 3001 / 6000 [ 50%]  (Sampling)\n",
      "Chain 2: Iteration: 3600 / 6000 [ 60%]  (Sampling)\n",
      "Chain 2: Iteration: 4200 / 6000 [ 70%]  (Sampling)\n",
      "Chain 2: Iteration: 4800 / 6000 [ 80%]  (Sampling)\n",
      "Chain 2: Iteration: 5400 / 6000 [ 90%]  (Sampling)\n",
      "Chain 2: Iteration: 6000 / 6000 [100%]  (Sampling)\n",
      "Chain 2: \n",
      "Chain 2:  Elapsed Time: 10.238 seconds (Warm-up)\n",
      "Chain 2:                15.625 seconds (Sampling)\n",
      "Chain 2:                25.863 seconds (Total)\n",
      "Chain 2: \n",
      "\n",
      "SAMPLING FOR MODEL 'continuous' NOW (CHAIN 3).\n",
      "Chain 3: \n",
      "Chain 3: Gradient evaluation took 2.9e-05 seconds\n",
      "Chain 3: 1000 transitions using 10 leapfrog steps per transition would take 0.29 seconds.\n",
      "Chain 3: Adjust your expectations accordingly!\n",
      "Chain 3: \n",
      "Chain 3: \n",
      "Chain 3: Iteration:    1 / 6000 [  0%]  (Warmup)\n",
      "Chain 3: Iteration:  600 / 6000 [ 10%]  (Warmup)\n",
      "Chain 3: Iteration: 1200 / 6000 [ 20%]  (Warmup)\n",
      "Chain 3: Iteration: 1800 / 6000 [ 30%]  (Warmup)\n",
      "Chain 3: Iteration: 2400 / 6000 [ 40%]  (Warmup)\n",
      "Chain 3: Iteration: 3000 / 6000 [ 50%]  (Warmup)\n",
      "Chain 3: Iteration: 3001 / 6000 [ 50%]  (Sampling)\n",
      "Chain 3: Iteration: 3600 / 6000 [ 60%]  (Sampling)\n",
      "Chain 3: Iteration: 4200 / 6000 [ 70%]  (Sampling)\n",
      "Chain 3: Iteration: 4800 / 6000 [ 80%]  (Sampling)\n",
      "Chain 3: Iteration: 5400 / 6000 [ 90%]  (Sampling)\n",
      "Chain 3: Iteration: 6000 / 6000 [100%]  (Sampling)\n",
      "Chain 3: \n",
      "Chain 3:  Elapsed Time: 12.227 seconds (Warm-up)\n",
      "Chain 3:                9.49 seconds (Sampling)\n",
      "Chain 3:                21.717 seconds (Total)\n",
      "Chain 3: \n",
      "\n",
      "SAMPLING FOR MODEL 'continuous' NOW (CHAIN 4).\n",
      "Chain 4: \n",
      "Chain 4: Gradient evaluation took 3e-05 seconds\n",
      "Chain 4: 1000 transitions using 10 leapfrog steps per transition would take 0.3 seconds.\n",
      "Chain 4: Adjust your expectations accordingly!\n",
      "Chain 4: \n",
      "Chain 4: \n",
      "Chain 4: Iteration:    1 / 6000 [  0%]  (Warmup)\n",
      "Chain 4: Iteration:  600 / 6000 [ 10%]  (Warmup)\n",
      "Chain 4: Iteration: 1200 / 6000 [ 20%]  (Warmup)\n",
      "Chain 4: Iteration: 1800 / 6000 [ 30%]  (Warmup)\n",
      "Chain 4: Iteration: 2400 / 6000 [ 40%]  (Warmup)\n",
      "Chain 4: Iteration: 3000 / 6000 [ 50%]  (Warmup)\n",
      "Chain 4: Iteration: 3001 / 6000 [ 50%]  (Sampling)\n",
      "Chain 4: Iteration: 3600 / 6000 [ 60%]  (Sampling)\n",
      "Chain 4: Iteration: 4200 / 6000 [ 70%]  (Sampling)\n",
      "Chain 4: Iteration: 4800 / 6000 [ 80%]  (Sampling)\n",
      "Chain 4: Iteration: 5400 / 6000 [ 90%]  (Sampling)\n",
      "Chain 4: Iteration: 6000 / 6000 [100%]  (Sampling)\n",
      "Chain 4: \n",
      "Chain 4:  Elapsed Time: 11.674 seconds (Warm-up)\n",
      "Chain 4:                20.238 seconds (Sampling)\n",
      "Chain 4:                31.912 seconds (Total)\n",
      "Chain 4: "
     ]
    },
    {
     "output_type": "stream",
     "name": "stderr",
     "text": [
      "Warning: There were 1 divergent transitions after warmup. See\n",
      "https://mc-stan.org/misc/warnings.html#divergent-transitions-after-warmup\n",
      "to find out why this is a problem and how to eliminate them."
     ]
    },
    {
     "output_type": "stream",
     "name": "stderr",
     "text": [
      "Warning: Examine the pairs() plot to diagnose sampling problems"
     ]
    }
   ],
   "source": [
    "#| output: false\n",
    "\n",
    "# Repeated CV (id = repeat, id2 = fold within repeat)\n",
    "# with a common variance:  statistic ~ model + (model | id2/id)\n",
    "set.seed(101)\n",
    "pp <- test_metrics_all |> \n",
    "  rename(id = fold_num,\n",
    "         id2 = repeat_num) |> \n",
    "  perf_mod(formula = statistic ~ model + (1 | id2/id),\n",
    "         transform = tidyposterior::logit_trans,  # for skewed & bounded AUC\n",
    "         iter = 6000, chains = 4, adapt_delta = .999, # increased iteration from 2000 to fix divergence issues\n",
    "         family = gaussian, \n",
    ")  "
   ],
   "id": "bd0d6dc6-2cba-4e83-b5ab-4ebda00cccfc"
  },
  {
   "cell_type": "code",
   "execution_count": null,
   "metadata": {},
   "outputs": [
    {
     "output_type": "stream",
     "name": "stdout",
     "text": [
      "# A tibble: 5 × 4\n",
      "  model   pp_median pp_lower pp_upper\n",
      "  <fct>       <dbl>    <dbl>    <dbl>\n",
      "1 0 lag       0.912    0.900    0.924\n",
      "2 24 lag      0.891    0.876    0.905\n",
      "3 72 lag      0.882    0.866    0.897\n",
      "4 168 lag     0.870    0.853    0.886\n",
      "5 336 lag     0.850    0.830    0.868"
     ]
    }
   ],
   "source": [
    "pp_tidy <- pp |> \n",
    "  tidy(seed = 123) \n",
    "\n",
    "q = c(.025, .5, .975)\n",
    "pp_perf_tibble <- pp_tidy |> \n",
    "  group_by(model) |> \n",
    "  summarize(pp_median = quantile(posterior, probs = q[2]),\n",
    "            pp_lower = quantile(posterior, probs = q[1]), \n",
    "            pp_upper = quantile(posterior, probs = q[3])) |> \n",
    "  mutate(model = factor(model, levels = c(\"lag0\", \"lag24\", \"lag72\", \"lag168\", \"lag336\"),\n",
    "                        labels = c(\"0 lag\", \"24 lag\", \"72 lag\", \"168 lag\", \"336 lag\"))) |> \n",
    "  arrange(model)\n",
    "\n",
    "pp_perf_tibble |> \n",
    "  write_csv(here::here(path_models_lag, \"pp_perf_tibble.csv\"))\n",
    "\n",
    "pp_tidy |> \n",
    "  write_csv(here::here(path_models_lag, \"posteriors.csv\"))\n",
    "\n",
    "pp_perf_tibble"
   ],
   "id": "dc607769-22ab-4e70-9ad4-f3ea8cfc97ea"
  },
  {
   "cell_type": "markdown",
   "metadata": {},
   "source": [
    "### Model Comparisons\n",
    "\n",
    "#### Baseline Contrasts"
   ],
   "id": "4ce49217-e8d7-4743-9878-9cd4ef64563f"
  },
  {
   "cell_type": "code",
   "execution_count": null,
   "metadata": {},
   "outputs": [
    {
     "output_type": "stream",
     "name": "stdout",
     "text": [
      "# A tibble: 4 × 10\n",
      "  contrast  probability    mean   lower   upper  size pract_neg pract_equiv\n",
      "  <fct>           <dbl>   <dbl>   <dbl>   <dbl> <dbl>     <dbl>       <dbl>\n",
      "1 168 vs. 0           0 -0.0424 -0.0481 -0.0369     0        NA          NA\n",
      "2 24 vs. 0            0 -0.0210 -0.0253 -0.0168     0        NA          NA\n",
      "3 336 vs. 0           0 -0.0626 -0.0699 -0.0556     0        NA          NA\n",
      "4 72 vs. 0            0 -0.0301 -0.0350 -0.0255     0        NA          NA\n",
      "# ℹ 2 more variables: pract_pos <dbl>, median <dbl>"
     ]
    }
   ],
   "source": [
    "ci_baseline <- pp |>\n",
    "  contrast_models(list(\"lag24\", \"lag72\", \"lag168\", \"lag336\"), \n",
    "                  list(\"lag0\", \"lag0\", \"lag0\", \"lag0\")) |> \n",
    "  summary(size = 0) |> \n",
    "  mutate(contrast = factor(contrast, \n",
    "                           levels = c(\"lag24 vs lag0\", \"lag72 vs lag0\", \"lag168 vs lag0\", \n",
    "                                      \"lag336 vs lag0\"),\n",
    "                           labels = c(\"24 vs. 0\", \"72 vs. 0\", \n",
    "                                      \"168 vs. 0\", \"336 vs. 0\")))\n",
    "\n",
    "ci_median_baseline <- pp |> \n",
    "  contrast_models(list(\"lag24\", \"lag72\", \"lag168\", \"lag336\"), \n",
    "                  list(\"lag0\", \"lag0\", \"lag0\", \"lag0\")) |>  \n",
    "  group_by(contrast) |> \n",
    "  summarize(median = quantile(difference, .5)) |> \n",
    "  mutate(contrast = factor(contrast, \n",
    "                           levels = c(\"lag24 vs. lag0\", \"lag72 vs. lag0\", \"lag168 vs. lag0\", \n",
    "                                      \"lag336 vs. lag0\"),\n",
    "                           labels = c(\"24 vs. 0\", \"72 vs. 0\", \n",
    "                                      \"168 vs. 0\", \"336 vs. 0\")))\n",
    "\n",
    "\n",
    "ci_baseline <- ci_baseline |> \n",
    "  left_join(ci_median_baseline, by = c(\"contrast\")) \n",
    "\n",
    "ci_baseline |> \n",
    "  write_csv(here::here(path_models_lag, \"contrast_baseline.csv\"))\n",
    "\n",
    "ci_baseline"
   ],
   "id": "3166c667-31e1-4214-9e7b-2154a02549a2"
  },
  {
   "cell_type": "markdown",
   "metadata": {},
   "source": [
    "#### Adjacent Contrasts"
   ],
   "id": "4099807b-3d5d-4f2f-b1b9-5291a84d890c"
  },
  {
   "cell_type": "code",
   "execution_count": null,
   "metadata": {},
   "outputs": [
    {
     "output_type": "stream",
     "name": "stdout",
     "text": [
      "# A tibble: 3 × 10\n",
      "  contrast    probability     mean   lower    upper  size pract_neg pract_equiv\n",
      "  <fct>             <dbl>    <dbl>   <dbl>    <dbl> <dbl>     <dbl>       <dbl>\n",
      "1 72 vs. 24      0.000167 -0.00908 -0.0134 -0.00480     0        NA          NA\n",
      "2 168 vs. 72     0        -0.0123  -0.0170 -0.00758     0        NA          NA\n",
      "3 336 vs. 168    0        -0.0202  -0.0258 -0.0148      0        NA          NA\n",
      "# ℹ 2 more variables: pract_pos <dbl>, median <dbl>"
     ]
    }
   ],
   "source": [
    "ci_lag <- pp |>\n",
    "  contrast_models(list(\"lag72\", \"lag168\", \"lag336\"), \n",
    "                  list(\"lag24\", \"lag72\", \"lag168\")) |> \n",
    "  summary(size = 0) |> \n",
    "  mutate(contrast = factor(contrast, \n",
    "                           levels = c(\"lag72 vs lag24\", \"lag168 vs lag72\", \n",
    "                                      \"lag336 vs lag168\"),\n",
    "                           labels = c(\"72 vs. 24\", \"168 vs. 72\", \"336 vs. 168\")))\n",
    "\n",
    "ci_median_lag <- pp |> \n",
    "  contrast_models(list(\"lag72\", \"lag168\", \"lag336\"), \n",
    "                  list(\"lag24\", \"lag72\", \"lag168\")) |> \n",
    "  group_by(contrast) |> \n",
    "  summarize(median = quantile(difference, .5)) |> \n",
    "  mutate(contrast = factor(contrast, \n",
    "                           levels = c(\"lag72 vs. lag24\", \"lag168 vs. lag72\", \n",
    "                                      \"lag336 vs. lag168\"),\n",
    "                           labels = c(\"72 vs. 24\", \"168 vs. 72\", \"336 vs. 168\")))\n",
    "\n",
    "ci_lag <- ci_lag |> \n",
    "  left_join(ci_median_lag, by = c(\"contrast\")) |> \n",
    "  arrange(contrast)\n",
    "\n",
    "ci_lag |> \n",
    "  write_csv(here::here(path_models_lag, \"contrast_adjacent.csv\"))\n",
    "\n",
    "ci_lag"
   ],
   "id": "e79802ce-8aa9-43af-9924-e0566f5d6a2f"
  }
 ],
 "nbformat": 4,
 "nbformat_minor": 5,
 "metadata": {}
}
