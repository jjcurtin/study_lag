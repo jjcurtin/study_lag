{
 "cells": [
  {
   "cell_type": "markdown",
   "metadata": {},
   "source": [
    "# Model evaluation\n",
    "\n",
    "Kendra Wyant  \n",
    "June 11, 2025\n",
    "\n",
    "### Set Up Environment"
   ],
   "id": "a44215c1-86ff-4b41-8b76-b707765a2f43"
  },
  {
   "cell_type": "code",
   "execution_count": null,
   "metadata": {},
   "outputs": [],
   "source": [
    "suppressPackageStartupMessages(library(tidyverse))\n",
    "suppressPackageStartupMessages(source(\"https://github.com/jjcurtin/lab_support/blob/main/format_path.R?raw=true\"))\n",
    "suppressPackageStartupMessages(library(tidyposterior))\n",
    "\n",
    "path_models_lag <- format_path(str_c(\"risk/models/lag\"))\n",
    "path_shared <- format_path(\"risk/data_processed/shared\")\n",
    "path_processed <- format_path(\"risk/data_processed/lag\")\n",
    "\n",
    "options(knitr.kable.NA = '')"
   ],
   "id": "af314bc1-6dda-4218-a56b-01dce14a923e"
  },
  {
   "cell_type": "code",
   "execution_count": null,
   "metadata": {},
   "outputs": [
    {
     "output_type": "stream",
     "name": "stdout",
     "text": [
      "Rows: 30\n",
      "Columns: 7\n",
      "$ lag0       <dbl> 0.8989030, 0.9245294, 0.9297046, 0.9056895, 0.8849340, 0.91…\n",
      "$ lag24      <dbl> 0.8689003, 0.8988473, 0.9261899, 0.8778537, 0.8780250, 0.90…\n",
      "$ lag72      <dbl> 0.8358703, 0.8974821, 0.9275120, 0.8653247, 0.8754346, 0.89…\n",
      "$ lag168     <dbl> 0.8224227, 0.8695022, 0.9108843, 0.8673193, 0.8613850, 0.88…\n",
      "$ lag336     <dbl> 0.7534889, 0.8629033, 0.9062894, 0.8448594, 0.8349199, 0.85…\n",
      "$ fold_num   <int> 1, 2, 3, 4, 5, 6, 7, 8, 9, 10, 1, 2, 3, 4, 5, 6, 7, 8, 9, 1…\n",
      "$ repeat_num <dbl> 1, 1, 1, 1, 1, 1, 1, 1, 1, 1, 2, 2, 2, 2, 2, 2, 2, 2, 2, 2,…"
     ]
    }
   ],
   "source": [
    "test_metrics_0 <- read_csv(here::here(path_models_lag, \n",
    "                                      \"test_auroc_6_x_5_1day_0_v3_nested_strat_lh.csv\"), \n",
    "                              col_types = cols()) |> \n",
    "  select(outer_split_num, \"lag0\" = roc_auc)\n",
    "\n",
    "test_metrics_24 <- read_csv(here::here(path_models_lag, \n",
    "                                       \"test_auroc_6_x_5_1day_24_v3_nested_strat_lh.csv\"),\n",
    "                             col_types = cols()) |> \n",
    "  select(outer_split_num, \"lag24\" = roc_auc)\n",
    "\n",
    "test_metrics_72 <- read_csv(here::here(path_models_lag, \n",
    "                                       \"test_auroc_6_x_5_1day_72_v3_nested_strat_lh.csv\"),\n",
    "                              col_types = cols()) |> \n",
    "  select(outer_split_num, \"lag72\" = roc_auc)\n",
    "\n",
    "test_metrics_168 <- read_csv(here::here(path_models_lag, \n",
    "                                        \"test_auroc_6_x_5_1day_168_v3_nested_strat_lh.csv\"), \n",
    "                              col_types = cols()) |> \n",
    "  select(outer_split_num, \"lag168\" = roc_auc)\n",
    "\n",
    "test_metrics_336 <- read_csv(here::here(path_models_lag, \n",
    "                                       \"test_auroc_6_x_5_1day_336_v3_nested_strat_lh.csv\"),\n",
    "                             col_types = cols()) |> \n",
    "  select(outer_split_num, \"lag336\" = roc_auc)\n",
    "\n",
    "test_metrics_all <- test_metrics_0 |> \n",
    "  left_join(test_metrics_24, by = c(\"outer_split_num\")) |> \n",
    "  left_join(test_metrics_72, by = c(\"outer_split_num\")) |>\n",
    "  left_join(test_metrics_168, by = c(\"outer_split_num\")) |>\n",
    "  left_join(test_metrics_336, by = c(\"outer_split_num\")) |> \n",
    "  mutate(fold_num = rep(1:10, 3),\n",
    "         repeat_num = c(rep(1, 10), rep(2, 10), rep(3, 10))) |> \n",
    "  select(-outer_split_num) |> \n",
    "  glimpse()"
   ],
   "id": "6f689e2b-8fc8-4943-8b5b-6ff639ff296f"
  },
  {
   "cell_type": "markdown",
   "metadata": {},
   "source": [
    "#### Model evaluation"
   ],
   "id": "318c2758-646a-437b-a659-57566721a61f"
  },
  {
   "cell_type": "code",
   "execution_count": null,
   "metadata": {},
   "outputs": [
    {
     "output_type": "stream",
     "name": "stdout",
     "text": [
      "\n",
      "SAMPLING FOR MODEL 'continuous' NOW (CHAIN 1).\n",
      "Chain 1: \n",
      "Chain 1: Gradient evaluation took 0.000793 seconds\n",
      "Chain 1: 1000 transitions using 10 leapfrog steps per transition would take 7.93 seconds.\n",
      "Chain 1: Adjust your expectations accordingly!\n",
      "Chain 1: \n",
      "Chain 1: \n",
      "Chain 1: Iteration:    1 / 4000 [  0%]  (Warmup)\n",
      "Chain 1: Iteration:  400 / 4000 [ 10%]  (Warmup)\n",
      "Chain 1: Iteration:  800 / 4000 [ 20%]  (Warmup)\n",
      "Chain 1: Iteration: 1200 / 4000 [ 30%]  (Warmup)\n",
      "Chain 1: Iteration: 1600 / 4000 [ 40%]  (Warmup)\n",
      "Chain 1: Iteration: 2000 / 4000 [ 50%]  (Warmup)\n",
      "Chain 1: Iteration: 2001 / 4000 [ 50%]  (Sampling)\n",
      "Chain 1: Iteration: 2400 / 4000 [ 60%]  (Sampling)\n",
      "Chain 1: Iteration: 2800 / 4000 [ 70%]  (Sampling)\n",
      "Chain 1: Iteration: 3200 / 4000 [ 80%]  (Sampling)\n",
      "Chain 1: Iteration: 3600 / 4000 [ 90%]  (Sampling)\n",
      "Chain 1: Iteration: 4000 / 4000 [100%]  (Sampling)\n",
      "Chain 1: \n",
      "Chain 1:  Elapsed Time: 7.623 seconds (Warm-up)\n",
      "Chain 1:                4.108 seconds (Sampling)\n",
      "Chain 1:                11.731 seconds (Total)\n",
      "Chain 1: \n",
      "\n",
      "SAMPLING FOR MODEL 'continuous' NOW (CHAIN 2).\n",
      "Chain 2: \n",
      "Chain 2: Gradient evaluation took 6e-05 seconds\n",
      "Chain 2: 1000 transitions using 10 leapfrog steps per transition would take 0.6 seconds.\n",
      "Chain 2: Adjust your expectations accordingly!\n",
      "Chain 2: \n",
      "Chain 2: \n",
      "Chain 2: Iteration:    1 / 4000 [  0%]  (Warmup)\n",
      "Chain 2: Iteration:  400 / 4000 [ 10%]  (Warmup)\n",
      "Chain 2: Iteration:  800 / 4000 [ 20%]  (Warmup)\n",
      "Chain 2: Iteration: 1200 / 4000 [ 30%]  (Warmup)\n",
      "Chain 2: Iteration: 1600 / 4000 [ 40%]  (Warmup)\n",
      "Chain 2: Iteration: 2000 / 4000 [ 50%]  (Warmup)\n",
      "Chain 2: Iteration: 2001 / 4000 [ 50%]  (Sampling)\n",
      "Chain 2: Iteration: 2400 / 4000 [ 60%]  (Sampling)\n",
      "Chain 2: Iteration: 2800 / 4000 [ 70%]  (Sampling)\n",
      "Chain 2: Iteration: 3200 / 4000 [ 80%]  (Sampling)\n",
      "Chain 2: Iteration: 3600 / 4000 [ 90%]  (Sampling)\n",
      "Chain 2: Iteration: 4000 / 4000 [100%]  (Sampling)\n",
      "Chain 2: \n",
      "Chain 2:  Elapsed Time: 6.408 seconds (Warm-up)\n",
      "Chain 2:                8.851 seconds (Sampling)\n",
      "Chain 2:                15.259 seconds (Total)\n",
      "Chain 2: \n",
      "\n",
      "SAMPLING FOR MODEL 'continuous' NOW (CHAIN 3).\n",
      "Chain 3: \n",
      "Chain 3: Gradient evaluation took 4.3e-05 seconds\n",
      "Chain 3: 1000 transitions using 10 leapfrog steps per transition would take 0.43 seconds.\n",
      "Chain 3: Adjust your expectations accordingly!\n",
      "Chain 3: \n",
      "Chain 3: \n",
      "Chain 3: Iteration:    1 / 4000 [  0%]  (Warmup)\n",
      "Chain 3: Iteration:  400 / 4000 [ 10%]  (Warmup)\n",
      "Chain 3: Iteration:  800 / 4000 [ 20%]  (Warmup)\n",
      "Chain 3: Iteration: 1200 / 4000 [ 30%]  (Warmup)\n",
      "Chain 3: Iteration: 1600 / 4000 [ 40%]  (Warmup)\n",
      "Chain 3: Iteration: 2000 / 4000 [ 50%]  (Warmup)\n",
      "Chain 3: Iteration: 2001 / 4000 [ 50%]  (Sampling)\n",
      "Chain 3: Iteration: 2400 / 4000 [ 60%]  (Sampling)\n",
      "Chain 3: Iteration: 2800 / 4000 [ 70%]  (Sampling)\n",
      "Chain 3: Iteration: 3200 / 4000 [ 80%]  (Sampling)\n",
      "Chain 3: Iteration: 3600 / 4000 [ 90%]  (Sampling)\n",
      "Chain 3: Iteration: 4000 / 4000 [100%]  (Sampling)\n",
      "Chain 3: \n",
      "Chain 3:  Elapsed Time: 7.853 seconds (Warm-up)\n",
      "Chain 3:                6.011 seconds (Sampling)\n",
      "Chain 3:                13.864 seconds (Total)\n",
      "Chain 3: \n",
      "\n",
      "SAMPLING FOR MODEL 'continuous' NOW (CHAIN 4).\n",
      "Chain 4: \n",
      "Chain 4: Gradient evaluation took 5.4e-05 seconds\n",
      "Chain 4: 1000 transitions using 10 leapfrog steps per transition would take 0.54 seconds.\n",
      "Chain 4: Adjust your expectations accordingly!\n",
      "Chain 4: \n",
      "Chain 4: \n",
      "Chain 4: Iteration:    1 / 4000 [  0%]  (Warmup)\n",
      "Chain 4: Iteration:  400 / 4000 [ 10%]  (Warmup)\n",
      "Chain 4: Iteration:  800 / 4000 [ 20%]  (Warmup)\n",
      "Chain 4: Iteration: 1200 / 4000 [ 30%]  (Warmup)\n",
      "Chain 4: Iteration: 1600 / 4000 [ 40%]  (Warmup)\n",
      "Chain 4: Iteration: 2000 / 4000 [ 50%]  (Warmup)\n",
      "Chain 4: Iteration: 2001 / 4000 [ 50%]  (Sampling)\n",
      "Chain 4: Iteration: 2400 / 4000 [ 60%]  (Sampling)\n",
      "Chain 4: Iteration: 2800 / 4000 [ 70%]  (Sampling)\n",
      "Chain 4: Iteration: 3200 / 4000 [ 80%]  (Sampling)\n",
      "Chain 4: Iteration: 3600 / 4000 [ 90%]  (Sampling)\n",
      "Chain 4: Iteration: 4000 / 4000 [100%]  (Sampling)\n",
      "Chain 4: \n",
      "Chain 4:  Elapsed Time: 7.654 seconds (Warm-up)\n",
      "Chain 4:                6.64 seconds (Sampling)\n",
      "Chain 4:                14.294 seconds (Total)\n",
      "Chain 4: "
     ]
    },
    {
     "output_type": "stream",
     "name": "stderr",
     "text": [
      "Warning: There were 2 divergent transitions after warmup. See\n",
      "https://mc-stan.org/misc/warnings.html#divergent-transitions-after-warmup\n",
      "to find out why this is a problem and how to eliminate them."
     ]
    },
    {
     "output_type": "stream",
     "name": "stderr",
     "text": [
      "Warning: Examine the pairs() plot to diagnose sampling problems"
     ]
    }
   ],
   "source": [
    "#| output: false\n",
    "\n",
    "# Repeated CV (id = repeat, id2 = fold within repeat)\n",
    "# with a common variance:  statistic ~ model + (model | id2/id)\n",
    "set.seed(101)\n",
    "pp <- test_metrics_all |> \n",
    "  rename(id = fold_num,\n",
    "         id2 = repeat_num) |> \n",
    "  perf_mod(formula = statistic ~ model + (1 | id2/id),\n",
    "         transform = tidyposterior::logit_trans,  # for skewed & bounded AUC\n",
    "         iter = 4000, chains = 4, adapt_delta = .999, # increased iteration from 2000 to fix divergence issues\n",
    "         family = gaussian, \n",
    ")  "
   ],
   "id": "e51b7f32-1a3a-45a4-b7f8-d6171155e91f"
  },
  {
   "cell_type": "code",
   "execution_count": null,
   "metadata": {},
   "outputs": [
    {
     "output_type": "stream",
     "name": "stdout",
     "text": [
      "# A tibble: 5 × 4\n",
      "  model   pp_median pp_lower pp_upper\n",
      "  <fct>       <dbl>    <dbl>    <dbl>\n",
      "1 0 lag       0.912    0.899    0.923\n",
      "2 24 lag      0.891    0.876    0.904\n",
      "3 72 lag      0.882    0.865    0.896\n",
      "4 168 lag     0.870    0.852    0.885\n",
      "5 336 lag     0.849    0.830    0.867"
     ]
    }
   ],
   "source": [
    "pp_tidy <- pp |> \n",
    "  tidy(seed = 123) \n",
    "\n",
    "q = c(.025, .5, .975)\n",
    "pp_perf_tibble <- pp_tidy |> \n",
    "  group_by(model) |> \n",
    "  summarize(pp_median = quantile(posterior, probs = q[2]),\n",
    "            pp_lower = quantile(posterior, probs = q[1]), \n",
    "            pp_upper = quantile(posterior, probs = q[3])) |> \n",
    "  mutate(model = factor(model, levels = c(\"lag0\", \"lag24\", \"lag72\", \"lag168\", \"lag336\"),\n",
    "                        labels = c(\"0 lag\", \"24 lag\", \"72 lag\", \"168 lag\", \"336 lag\"))) |> \n",
    "  arrange(model)\n",
    "\n",
    "pp_perf_tibble |> \n",
    "  write_csv(here::here(path_models_lag, \"pp_perf_tibble.csv\"))\n",
    "\n",
    "pp_tidy |> \n",
    "  write_csv(here::here(path_models_lag, \"posteriors.csv\"))\n",
    "\n",
    "pp_perf_tibble"
   ],
   "id": "1fb9f6be-31f1-40a8-9835-ae9e164b4b93"
  },
  {
   "cell_type": "markdown",
   "metadata": {},
   "source": [
    "### Model Comparisons\n",
    "\n",
    "#### Baseline Contrasts"
   ],
   "id": "81167e84-7827-4388-8a18-e90b64fef531"
  },
  {
   "cell_type": "code",
   "execution_count": null,
   "metadata": {},
   "outputs": [
    {
     "output_type": "stream",
     "name": "stdout",
     "text": [
      "# A tibble: 4 × 10\n",
      "  contrast  probability   mean  lower  upper  size pract_neg pract_equiv\n",
      "  <fct>           <dbl>  <dbl>  <dbl>  <dbl> <dbl>     <dbl>       <dbl>\n",
      "1 0 vs. 168           1 0.0426 0.0369 0.0486     0        NA          NA\n",
      "2 0 vs. 24            1 0.0212 0.0168 0.0256     0        NA          NA\n",
      "3 0 vs. 336           1 0.0629 0.0557 0.0702     0        NA          NA\n",
      "4 0 vs. 72            1 0.0303 0.0254 0.0354     0        NA          NA\n",
      "# ℹ 2 more variables: pract_pos <dbl>, median <dbl>"
     ]
    }
   ],
   "source": [
    "ci_baseline <- pp |>\n",
    "  contrast_models(list(\"lag0\", \"lag0\", \"lag0\", \"lag0\"), \n",
    "                  list(\"lag24\", \"lag72\", \"lag168\", \"lag336\")) |> \n",
    "  summary(size = 0) |> \n",
    "  mutate(contrast = factor(contrast, \n",
    "                           levels = c(\"lag0 vs lag24\", \"lag0 vs lag72\", \"lag0 vs lag168\", \n",
    "                                      \"lag0 vs lag336\"),\n",
    "                           labels = c(\"0 vs. 24\", \"0 vs. 72\", \n",
    "                                      \"0 vs. 168\", \"0 vs. 336\")))\n",
    "\n",
    "ci_median_baseline <- pp |> \n",
    "  contrast_models(list(\"lag0\", \"lag0\", \"lag0\", \"lag0\"), \n",
    "                  list(\"lag24\", \"lag72\", \"lag168\", \"lag336\")) |>  \n",
    "  group_by(contrast) |> \n",
    "  summarize(median = quantile(difference, .5)) |> \n",
    "  mutate(contrast = factor(contrast, \n",
    "                           levels = c(\"lag0 vs. lag24\", \"lag0 vs. lag72\", \"lag0 vs. lag168\", \n",
    "                                      \"lag0 vs. lag336\"),\n",
    "                           labels = c(\"0 vs. 24\", \"0 vs. 72\", \n",
    "                                      \"0 vs. 168\", \"0 vs. 336\")))\n",
    "\n",
    "\n",
    "ci_baseline <- ci_baseline |> \n",
    "  left_join(ci_median_baseline, by = c(\"contrast\")) \n",
    "\n",
    "ci_baseline |> \n",
    "  write_csv(here::here(path_models_lag, \"contrast_baseline.csv\"))\n",
    "\n",
    "ci_baseline"
   ],
   "id": "72440caa-30c9-4d91-a6af-ec6a57efe39f"
  },
  {
   "cell_type": "markdown",
   "metadata": {},
   "source": [
    "#### Adjacent Contrasts"
   ],
   "id": "e28d34dd-e4eb-44b2-9fc9-b6c1dafe2e16"
  },
  {
   "cell_type": "code",
   "execution_count": null,
   "metadata": {},
   "outputs": [
    {
     "output_type": "stream",
     "name": "stdout",
     "text": [
      "# A tibble: 3 × 10\n",
      "  contrast    probability    mean   lower  upper  size pract_neg pract_equiv\n",
      "  <fct>             <dbl>   <dbl>   <dbl>  <dbl> <dbl>     <dbl>       <dbl>\n",
      "1 24 vs. 72          1.00 0.00907 0.00457 0.0135     0        NA          NA\n",
      "2 72 vs. 168         1    0.0123  0.00752 0.0173     0        NA          NA\n",
      "3 168 vs. 336        1    0.0202  0.0148  0.0259     0        NA          NA\n",
      "# ℹ 2 more variables: pract_pos <dbl>, median <dbl>"
     ]
    }
   ],
   "source": [
    "ci_lag <- pp |>\n",
    "  contrast_models(list(\"lag24\", \"lag72\", \"lag168\"), \n",
    "                  list(\"lag72\", \"lag168\", \"lag336\")) |> \n",
    "  summary(size = 0) |> \n",
    "  mutate(contrast = factor(contrast, \n",
    "                           levels = c(\"lag24 vs lag72\", \"lag72 vs lag168\", \n",
    "                                      \"lag168 vs lag336\"),\n",
    "                           labels = c(\"24 vs. 72\", \"72 vs. 168\", \"168 vs. 336\")))\n",
    "\n",
    "ci_median_lag <- pp |> \n",
    "  contrast_models(list(\"lag24\", \"lag72\", \"lag168\"), \n",
    "                  list(\"lag72\", \"lag168\", \"lag336\")) |>  \n",
    "  group_by(contrast) |> \n",
    "  summarize(median = quantile(difference, .5)) |> \n",
    "  mutate(contrast = factor(contrast, \n",
    "                           levels = c(\"lag24 vs. lag72\", \"lag72 vs. lag168\", \n",
    "                                      \"lag168 vs. lag336\"),\n",
    "                           labels = c(\"24 vs. 72\", \"72 vs. 168\", \"168 vs. 336\")))\n",
    "\n",
    "ci_lag <- ci_lag |> \n",
    "  left_join(ci_median_lag, by = c(\"contrast\")) |> \n",
    "  arrange(contrast)\n",
    "\n",
    "ci_lag |> \n",
    "  write_csv(here::here(path_models_lag, \"contrast_adjacent.csv\"))\n",
    "\n",
    "ci_lag"
   ],
   "id": "f6665a3c-4994-40b0-8638-f231cb695eda"
  }
 ],
 "nbformat": 4,
 "nbformat_minor": 5,
 "metadata": {}
}
