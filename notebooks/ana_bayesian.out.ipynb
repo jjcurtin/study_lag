{
 "cells": [
  {
   "cell_type": "markdown",
   "metadata": {},
   "source": [
    "# Model evaluation\n",
    "\n",
    "Kendra Wyant  \n",
    "January 27, 2025\n",
    "\n",
    "### Set Up Environment"
   ],
   "id": "d8e6d238-7ba2-49fb-b2f8-2a2caa9797cc"
  },
  {
   "cell_type": "code",
   "execution_count": null,
   "metadata": {},
   "outputs": [],
   "source": [
    "suppressPackageStartupMessages(library(tidyverse))\n",
    "suppressPackageStartupMessages(source(\"https://github.com/jjcurtin/lab_support/blob/main/format_path.R?raw=true\"))\n",
    "suppressPackageStartupMessages(library(tidyposterior))\n",
    "\n",
    "path_models_lag <- format_path(str_c(\"studydata/risk/models/lag\"))\n",
    "path_shared <- format_path(\"studydata/risk/data_processed/shared\")\n",
    "path_processed <- format_path(\"studydata/risk/data_processed/lag\")\n",
    "\n",
    "options(knitr.kable.NA = '')\n"
   ],
   "id": "bcece7ee-9e00-4f9e-9cc2-cfdc28a9b07b"
  },
  {
   "cell_type": "code",
   "execution_count": null,
   "metadata": {},
   "outputs": [
    {
     "output_type": "stream",
     "name": "stdout",
     "text": [
      "Rows: 30\n",
      "Columns: 7\n",
      "$ lag0       <dbl> 0.8521426, 0.9194489, 0.9081365, 0.9305263, 0.8909992, 0.92…\n",
      "$ lag24      <dbl> 0.8411314, 0.9079732, 0.8948582, 0.9068800, 0.8607597, 0.89…\n",
      "$ lag72      <dbl> 0.8399275, 0.8938290, 0.9056717, 0.8659998, 0.8405634, 0.87…\n",
      "$ lag168     <dbl> 0.8037671, 0.8889850, 0.8692878, 0.8454601, 0.8108104, 0.87…\n",
      "$ lag336     <dbl> 0.8207671, 0.8782209, 0.8119466, 0.8438914, 0.7771305, 0.84…\n",
      "$ fold_num   <int> 1, 2, 3, 4, 5, 6, 7, 8, 9, 10, 1, 2, 3, 4, 5, 6, 7, 8, 9, 1…\n",
      "$ repeat_num <dbl> 1, 1, 1, 1, 1, 1, 1, 1, 1, 1, 2, 2, 2, 2, 2, 2, 2, 2, 2, 2,…"
     ]
    }
   ],
   "source": [
    "test_metrics_0 <- read_csv(here::here(path_models_lag, \n",
    "                                      \"test_auroc_3_x_10_1day_0_v3_nested_main.csv\"), \n",
    "                              col_types = cols()) |> \n",
    "  select(outer_split_num, \"lag0\" = roc_auc)\n",
    "\n",
    "test_metrics_24 <- read_csv(here::here(path_models_lag, \n",
    "                                       \"test_auroc_3_x_10_1day_24_v3_nested_main.csv\"),\n",
    "                             col_types = cols()) |> \n",
    "  select(outer_split_num, \"lag24\" = roc_auc)\n",
    "\n",
    "test_metrics_72 <- read_csv(here::here(path_models_lag, \n",
    "                                       \"test_auroc_3_x_10_1day_72_v3_nested_main.csv\"),\n",
    "                              col_types = cols()) |> \n",
    "  select(outer_split_num, \"lag72\" = roc_auc)\n",
    "\n",
    "test_metrics_168 <- read_csv(here::here(path_models_lag, \n",
    "                                        \"test_auroc_3_x_10_1day_168_v3_nested_main.csv\"), \n",
    "                              col_types = cols()) |> \n",
    "  select(outer_split_num, \"lag168\" = roc_auc)\n",
    "\n",
    "test_metrics_336 <- read_csv(here::here(path_models_lag, \n",
    "                                       \"test_auroc_3_x_10_1day_336_v3_nested_main.csv\"),\n",
    "                             col_types = cols()) |> \n",
    "  select(outer_split_num, \"lag336\" = roc_auc)\n",
    "\n",
    "test_metrics_all <- test_metrics_0 |> \n",
    "  left_join(test_metrics_24, by = c(\"outer_split_num\")) |> \n",
    "  left_join(test_metrics_72, by = c(\"outer_split_num\")) |>\n",
    "  left_join(test_metrics_168, by = c(\"outer_split_num\")) |>\n",
    "  left_join(test_metrics_336, by = c(\"outer_split_num\")) |> \n",
    "  mutate(fold_num = rep(1:10, 3),\n",
    "         repeat_num = c(rep(1, 10), rep(2, 10), rep(3, 10))) |> \n",
    "  select(-outer_split_num) |> \n",
    "  glimpse()\n"
   ],
   "id": "366d031b-20ce-47fa-ad72-727585adec92"
  },
  {
   "cell_type": "markdown",
   "metadata": {},
   "source": [
    "#### Model evaluation"
   ],
   "id": "4a3db687-b658-4d47-9b58-8a7838ae4212"
  },
  {
   "cell_type": "code",
   "execution_count": null,
   "metadata": {},
   "outputs": [
    {
     "output_type": "stream",
     "name": "stdout",
     "text": [
      "\n",
      "SAMPLING FOR MODEL 'continuous' NOW (CHAIN 1).\n",
      "Chain 1: \n",
      "Chain 1: Gradient evaluation took 0.000909 seconds\n",
      "Chain 1: 1000 transitions using 10 leapfrog steps per transition would take 9.09 seconds.\n",
      "Chain 1: Adjust your expectations accordingly!\n",
      "Chain 1: \n",
      "Chain 1: \n",
      "Chain 1: Iteration:    1 / 4000 [  0%]  (Warmup)\n",
      "Chain 1: Iteration:  400 / 4000 [ 10%]  (Warmup)\n",
      "Chain 1: Iteration:  800 / 4000 [ 20%]  (Warmup)\n",
      "Chain 1: Iteration: 1200 / 4000 [ 30%]  (Warmup)\n",
      "Chain 1: Iteration: 1600 / 4000 [ 40%]  (Warmup)\n",
      "Chain 1: Iteration: 2000 / 4000 [ 50%]  (Warmup)\n",
      "Chain 1: Iteration: 2001 / 4000 [ 50%]  (Sampling)\n",
      "Chain 1: Iteration: 2400 / 4000 [ 60%]  (Sampling)\n",
      "Chain 1: Iteration: 2800 / 4000 [ 70%]  (Sampling)\n",
      "Chain 1: Iteration: 3200 / 4000 [ 80%]  (Sampling)\n",
      "Chain 1: Iteration: 3600 / 4000 [ 90%]  (Sampling)\n",
      "Chain 1: Iteration: 4000 / 4000 [100%]  (Sampling)\n",
      "Chain 1: \n",
      "Chain 1:  Elapsed Time: 5.889 seconds (Warm-up)\n",
      "Chain 1:                5.06 seconds (Sampling)\n",
      "Chain 1:                10.949 seconds (Total)\n",
      "Chain 1: \n",
      "\n",
      "SAMPLING FOR MODEL 'continuous' NOW (CHAIN 2).\n",
      "Chain 2: \n",
      "Chain 2: Gradient evaluation took 4.8e-05 seconds\n",
      "Chain 2: 1000 transitions using 10 leapfrog steps per transition would take 0.48 seconds.\n",
      "Chain 2: Adjust your expectations accordingly!\n",
      "Chain 2: \n",
      "Chain 2: \n",
      "Chain 2: Iteration:    1 / 4000 [  0%]  (Warmup)\n",
      "Chain 2: Iteration:  400 / 4000 [ 10%]  (Warmup)\n",
      "Chain 2: Iteration:  800 / 4000 [ 20%]  (Warmup)\n",
      "Chain 2: Iteration: 1200 / 4000 [ 30%]  (Warmup)\n",
      "Chain 2: Iteration: 1600 / 4000 [ 40%]  (Warmup)\n",
      "Chain 2: Iteration: 2000 / 4000 [ 50%]  (Warmup)\n",
      "Chain 2: Iteration: 2001 / 4000 [ 50%]  (Sampling)\n",
      "Chain 2: Iteration: 2400 / 4000 [ 60%]  (Sampling)\n",
      "Chain 2: Iteration: 2800 / 4000 [ 70%]  (Sampling)\n",
      "Chain 2: Iteration: 3200 / 4000 [ 80%]  (Sampling)\n",
      "Chain 2: Iteration: 3600 / 4000 [ 90%]  (Sampling)\n",
      "Chain 2: Iteration: 4000 / 4000 [100%]  (Sampling)\n",
      "Chain 2: \n",
      "Chain 2:  Elapsed Time: 5.762 seconds (Warm-up)\n",
      "Chain 2:                5.405 seconds (Sampling)\n",
      "Chain 2:                11.167 seconds (Total)\n",
      "Chain 2: \n",
      "\n",
      "SAMPLING FOR MODEL 'continuous' NOW (CHAIN 3).\n",
      "Chain 3: \n",
      "Chain 3: Gradient evaluation took 3e-05 seconds\n",
      "Chain 3: 1000 transitions using 10 leapfrog steps per transition would take 0.3 seconds.\n",
      "Chain 3: Adjust your expectations accordingly!\n",
      "Chain 3: \n",
      "Chain 3: \n",
      "Chain 3: Iteration:    1 / 4000 [  0%]  (Warmup)\n",
      "Chain 3: Iteration:  400 / 4000 [ 10%]  (Warmup)\n",
      "Chain 3: Iteration:  800 / 4000 [ 20%]  (Warmup)\n",
      "Chain 3: Iteration: 1200 / 4000 [ 30%]  (Warmup)\n",
      "Chain 3: Iteration: 1600 / 4000 [ 40%]  (Warmup)\n",
      "Chain 3: Iteration: 2000 / 4000 [ 50%]  (Warmup)\n",
      "Chain 3: Iteration: 2001 / 4000 [ 50%]  (Sampling)\n",
      "Chain 3: Iteration: 2400 / 4000 [ 60%]  (Sampling)\n",
      "Chain 3: Iteration: 2800 / 4000 [ 70%]  (Sampling)\n",
      "Chain 3: Iteration: 3200 / 4000 [ 80%]  (Sampling)\n",
      "Chain 3: Iteration: 3600 / 4000 [ 90%]  (Sampling)\n",
      "Chain 3: Iteration: 4000 / 4000 [100%]  (Sampling)\n",
      "Chain 3: \n",
      "Chain 3:  Elapsed Time: 7.327 seconds (Warm-up)\n",
      "Chain 3:                5.076 seconds (Sampling)\n",
      "Chain 3:                12.403 seconds (Total)\n",
      "Chain 3: \n",
      "\n",
      "SAMPLING FOR MODEL 'continuous' NOW (CHAIN 4).\n",
      "Chain 4: \n",
      "Chain 4: Gradient evaluation took 3.2e-05 seconds\n",
      "Chain 4: 1000 transitions using 10 leapfrog steps per transition would take 0.32 seconds.\n",
      "Chain 4: Adjust your expectations accordingly!\n",
      "Chain 4: \n",
      "Chain 4: \n",
      "Chain 4: Iteration:    1 / 4000 [  0%]  (Warmup)\n",
      "Chain 4: Iteration:  400 / 4000 [ 10%]  (Warmup)\n",
      "Chain 4: Iteration:  800 / 4000 [ 20%]  (Warmup)\n",
      "Chain 4: Iteration: 1200 / 4000 [ 30%]  (Warmup)\n",
      "Chain 4: Iteration: 1600 / 4000 [ 40%]  (Warmup)\n",
      "Chain 4: Iteration: 2000 / 4000 [ 50%]  (Warmup)\n",
      "Chain 4: Iteration: 2001 / 4000 [ 50%]  (Sampling)\n",
      "Chain 4: Iteration: 2400 / 4000 [ 60%]  (Sampling)\n",
      "Chain 4: Iteration: 2800 / 4000 [ 70%]  (Sampling)\n",
      "Chain 4: Iteration: 3200 / 4000 [ 80%]  (Sampling)\n",
      "Chain 4: Iteration: 3600 / 4000 [ 90%]  (Sampling)\n",
      "Chain 4: Iteration: 4000 / 4000 [100%]  (Sampling)\n",
      "Chain 4: \n",
      "Chain 4:  Elapsed Time: 6.624 seconds (Warm-up)\n",
      "Chain 4:                4.6 seconds (Sampling)\n",
      "Chain 4:                11.224 seconds (Total)\n",
      "Chain 4: "
     ]
    },
    {
     "output_type": "stream",
     "name": "stderr",
     "text": [
      "Warning: There were 2 divergent transitions after warmup. See\n",
      "https://mc-stan.org/misc/warnings.html#divergent-transitions-after-warmup\n",
      "to find out why this is a problem and how to eliminate them."
     ]
    },
    {
     "output_type": "stream",
     "name": "stderr",
     "text": [
      "Warning: Examine the pairs() plot to diagnose sampling problems"
     ]
    }
   ],
   "source": [
    "\n",
    "# Repeated CV (id = repeat, id2 = fold within repeat)\n",
    "# with a common variance:  statistic ~ model + (model | id2/id)\n",
    "set.seed(101)\n",
    "pp <- test_metrics_all |> \n",
    "  rename(id = fold_num,\n",
    "         id2 = repeat_num) |> \n",
    "  perf_mod(formula = statistic ~ model + (1 | id2/id),\n",
    "         transform = tidyposterior::logit_trans,  # for skewed & bounded AUC\n",
    "         iter = 4000, chains = 4, adapt_delta = .999, # increased iteration from 2000 to fix divergence issues\n",
    "         family = gaussian, \n",
    ")  \n"
   ],
   "id": "3c539202-3880-47d9-b897-fdf58a49872d"
  },
  {
   "cell_type": "code",
   "execution_count": null,
   "metadata": {},
   "outputs": [
    {
     "output_type": "stream",
     "name": "stdout",
     "text": [
      "# A tibble: 5 × 4\n",
      "  model   pp_median pp_lower pp_upper\n",
      "  <fct>       <dbl>    <dbl>    <dbl>\n",
      "1 0 lag       0.901    0.884    0.916\n",
      "2 24 lag      0.881    0.861    0.899\n",
      "3 72 lag      0.869    0.847    0.889\n",
      "4 168 lag     0.858    0.835    0.880\n",
      "5 336 lag     0.837    0.811    0.862"
     ]
    }
   ],
   "source": [
    "pp_tidy <- pp |> \n",
    "  tidy(seed = 123) \n",
    "\n",
    "q = c(.025, .5, .975)\n",
    "pp_perf_tibble <- pp_tidy |> \n",
    "  group_by(model) |> \n",
    "  summarize(pp_median = quantile(posterior, probs = q[2]),\n",
    "            pp_lower = quantile(posterior, probs = q[1]), \n",
    "            pp_upper = quantile(posterior, probs = q[3])) |> \n",
    "  mutate(model = factor(model, levels = c(\"lag0\", \"lag24\", \"lag72\", \"lag168\", \"lag336\"),\n",
    "                        labels = c(\"0 lag\", \"24 lag\", \"72 lag\", \"168 lag\", \"336 lag\"))) |> \n",
    "  arrange(model)\n",
    "\n",
    "pp_perf_tibble |> \n",
    "  write_csv(here::here(path_models_lag, \"pp_perf_tibble.csv\"))\n",
    "\n",
    "pp_tidy |> \n",
    "  write_csv(here::here(path_models_lag, \"posteriors.csv\"))\n",
    "\n",
    "pp_perf_tibble\n"
   ],
   "id": "ce3c15d1-9537-44a2-8c80-567f2411f882"
  },
  {
   "cell_type": "markdown",
   "metadata": {},
   "source": [
    "### Model Comparisons\n",
    "\n",
    "#### Baseline Contrasts"
   ],
   "id": "9bdf4c1e-ff67-4783-8ec3-d12d25067005"
  },
  {
   "cell_type": "code",
   "execution_count": null,
   "metadata": {},
   "outputs": [
    {
     "output_type": "stream",
     "name": "stdout",
     "text": [
      "# A tibble: 4 × 10\n",
      "  contrast  probability   mean  lower  upper  size pract_neg pract_equiv\n",
      "  <fct>           <dbl>  <dbl>  <dbl>  <dbl> <dbl>     <dbl>       <dbl>\n",
      "1 0 vs. 168           1 0.0427 0.0346 0.0514     0        NA          NA\n",
      "2 0 vs. 24            1 0.0199 0.0132 0.0268     0        NA          NA\n",
      "3 0 vs. 336           1 0.0638 0.0537 0.0741     0        NA          NA\n",
      "4 0 vs. 72            1 0.0322 0.0247 0.0402     0        NA          NA\n",
      "# ℹ 2 more variables: pract_pos <dbl>, median <dbl>"
     ]
    }
   ],
   "source": [
    "ci_baseline <- pp |>\n",
    "  contrast_models(list(\"lag0\", \"lag0\", \"lag0\", \"lag0\"), \n",
    "                  list(\"lag24\", \"lag72\", \"lag168\", \"lag336\")) |> \n",
    "  summary(size = 0) |> \n",
    "  mutate(contrast = factor(contrast, \n",
    "                           levels = c(\"lag0 vs lag24\", \"lag0 vs lag72\", \"lag0 vs lag168\", \n",
    "                                      \"lag0 vs lag336\"),\n",
    "                           labels = c(\"0 vs. 24\", \"0 vs. 72\", \n",
    "                                      \"0 vs. 168\", \"0 vs. 336\")))\n",
    "\n",
    "ci_median_baseline <- pp |> \n",
    "  contrast_models(list(\"lag0\", \"lag0\", \"lag0\", \"lag0\"), \n",
    "                  list(\"lag24\", \"lag72\", \"lag168\", \"lag336\")) |>  \n",
    "  group_by(contrast) |> \n",
    "  summarize(median = quantile(difference, .5)) |> \n",
    "  mutate(contrast = factor(contrast, \n",
    "                           levels = c(\"lag0 vs. lag24\", \"lag0 vs. lag72\", \"lag0 vs. lag168\", \n",
    "                                      \"lag0 vs. lag336\"),\n",
    "                           labels = c(\"0 vs. 24\", \"0 vs. 72\", \n",
    "                                      \"0 vs. 168\", \"0 vs. 336\")))\n",
    "\n",
    "\n",
    "ci_baseline <- ci_baseline |> \n",
    "  left_join(ci_median_baseline, by = c(\"contrast\")) \n",
    "\n",
    "ci_baseline |> \n",
    "  write_csv(here::here(path_models_lag, \"contrast_baseline.csv\"))\n",
    "\n",
    "ci_baseline\n"
   ],
   "id": "030e0fad-0ec6-41b5-af11-80096f72bf78"
  },
  {
   "cell_type": "markdown",
   "metadata": {},
   "source": [
    "#### Adjacent Contrasts"
   ],
   "id": "c33b0f10-1ebb-46a1-a44d-d14217d6cad7"
  },
  {
   "cell_type": "code",
   "execution_count": null,
   "metadata": {},
   "outputs": [
    {
     "output_type": "stream",
     "name": "stdout",
     "text": [
      "# A tibble: 3 × 10\n",
      "  contrast    probability   mean   lower  upper  size pract_neg pract_equiv\n",
      "  <fct>             <dbl>  <dbl>   <dbl>  <dbl> <dbl>     <dbl>       <dbl>\n",
      "1 24 vs. 72         0.998 0.0123 0.00531 0.0196     0        NA          NA\n",
      "2 72 vs. 168        0.986 0.0105 0.00288 0.0182     0        NA          NA\n",
      "3 168 vs. 336       1     0.0211 0.0122  0.0300     0        NA          NA\n",
      "# ℹ 2 more variables: pract_pos <dbl>, median <dbl>"
     ]
    }
   ],
   "source": [
    "ci_lag <- pp |>\n",
    "  contrast_models(list(\"lag24\", \"lag72\", \"lag168\"), \n",
    "                  list(\"lag72\", \"lag168\", \"lag336\")) |> \n",
    "  summary(size = 0) |> \n",
    "  mutate(contrast = factor(contrast, \n",
    "                           levels = c(\"lag24 vs lag72\", \"lag72 vs lag168\", \n",
    "                                      \"lag168 vs lag336\"),\n",
    "                           labels = c(\"24 vs. 72\", \"72 vs. 168\", \"168 vs. 336\")))\n",
    "\n",
    "ci_median_lag <- pp |> \n",
    "  contrast_models(list(\"lag24\", \"lag72\", \"lag168\"), \n",
    "                  list(\"lag72\", \"lag168\", \"lag336\")) |>  \n",
    "  group_by(contrast) |> \n",
    "  summarize(median = quantile(difference, .5)) |> \n",
    "  mutate(contrast = factor(contrast, \n",
    "                           levels = c(\"lag24 vs. lag72\", \"lag72 vs. lag168\", \n",
    "                                      \"lag168 vs. lag336\"),\n",
    "                           labels = c(\"24 vs. 72\", \"72 vs. 168\", \"168 vs. 336\")))\n",
    "\n",
    "ci_lag <- ci_lag |> \n",
    "  left_join(ci_median_lag, by = c(\"contrast\")) |> \n",
    "  arrange(contrast)\n",
    "\n",
    "ci_lag |> \n",
    "  write_csv(here::here(path_models_lag, \"contrast_adjacent.csv\"))\n",
    "\n",
    "ci_lag\n"
   ],
   "id": "aacae78d-12c8-4148-b60c-aff10ffaf8e1"
  }
 ],
 "nbformat": 4,
 "nbformat_minor": 5,
 "metadata": {}
}
